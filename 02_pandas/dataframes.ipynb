{
 "cells": [
  {
   "cell_type": "code",
   "execution_count": 43,
   "outputs": [],
   "source": [
    "import numpy as np\n",
    "import pandas as pd\n",
    "import re"
   ],
   "metadata": {
    "collapsed": false,
    "ExecuteTime": {
     "end_time": "2023-08-23T08:58:23.016205500Z",
     "start_time": "2023-08-23T08:58:23.004690500Z"
    }
   },
   "id": "bb15a42371cb3ce3"
  },
  {
   "cell_type": "code",
   "execution_count": 2,
   "outputs": [
    {
     "data": {
      "text/plain": "array([[95, 11, 81],\n       [70, 63, 87],\n       [75,  9, 77],\n       [40,  4, 63]])"
     },
     "execution_count": 2,
     "metadata": {},
     "output_type": "execute_result"
    }
   ],
   "source": [
    "np.random.seed(101)\n",
    "mydata = np.random.randint(0,101,(4,3))\n",
    "mydata"
   ],
   "metadata": {
    "collapsed": false,
    "ExecuteTime": {
     "end_time": "2023-08-23T08:16:10.693488600Z",
     "start_time": "2023-08-23T08:16:10.677720500Z"
    }
   },
   "id": "ee9e61fbf5b58d59"
  },
  {
   "cell_type": "code",
   "execution_count": 10,
   "outputs": [
    {
     "data": {
      "text/plain": "     1   2   3\nCA  95  11  81\nNY  70  63  87\nAZ  75   9  77\nTX  40   4  63",
      "text/html": "<div>\n<style scoped>\n    .dataframe tbody tr th:only-of-type {\n        vertical-align: middle;\n    }\n\n    .dataframe tbody tr th {\n        vertical-align: top;\n    }\n\n    .dataframe thead th {\n        text-align: right;\n    }\n</style>\n<table border=\"1\" class=\"dataframe\">\n  <thead>\n    <tr style=\"text-align: right;\">\n      <th></th>\n      <th>1</th>\n      <th>2</th>\n      <th>3</th>\n    </tr>\n  </thead>\n  <tbody>\n    <tr>\n      <th>CA</th>\n      <td>95</td>\n      <td>11</td>\n      <td>81</td>\n    </tr>\n    <tr>\n      <th>NY</th>\n      <td>70</td>\n      <td>63</td>\n      <td>87</td>\n    </tr>\n    <tr>\n      <th>AZ</th>\n      <td>75</td>\n      <td>9</td>\n      <td>77</td>\n    </tr>\n    <tr>\n      <th>TX</th>\n      <td>40</td>\n      <td>4</td>\n      <td>63</td>\n    </tr>\n  </tbody>\n</table>\n</div>"
     },
     "execution_count": 10,
     "metadata": {},
     "output_type": "execute_result"
    }
   ],
   "source": [
    "df = pd.DataFrame(data=mydata, index=['CA','NY','AZ','TX'],columns=[1, 2, 3])\n",
    "df"
   ],
   "metadata": {
    "collapsed": false,
    "ExecuteTime": {
     "end_time": "2023-08-23T08:21:55.583026600Z",
     "start_time": "2023-08-23T08:21:55.563964800Z"
    }
   },
   "id": "8f0d8cd84d3ebaa"
  },
  {
   "cell_type": "code",
   "execution_count": 14,
   "outputs": [
    {
     "name": "stdout",
     "output_type": "stream",
     "text": [
      "<class 'pandas.core.frame.DataFrame'>\n",
      "Index: 4 entries, CA to TX\n",
      "Data columns (total 3 columns):\n",
      " #   Column  Non-Null Count  Dtype\n",
      "---  ------  --------------  -----\n",
      " 0   1       4 non-null      int32\n",
      " 1   2       4 non-null      int32\n",
      " 2   3       4 non-null      int32\n",
      "dtypes: int32(3)\n",
      "memory usage: 80.0+ bytes\n"
     ]
    }
   ],
   "source": [
    "df.info()"
   ],
   "metadata": {
    "collapsed": false,
    "ExecuteTime": {
     "end_time": "2023-08-23T08:22:26.332821300Z",
     "start_time": "2023-08-23T08:22:26.316683600Z"
    }
   },
   "id": "b7b87d778d9eb4b1"
  },
  {
   "cell_type": "code",
   "execution_count": 13,
   "outputs": [
    {
     "data": {
      "text/plain": "Index(['CA', 'NY', 'AZ', 'TX'], dtype='object')"
     },
     "execution_count": 13,
     "metadata": {},
     "output_type": "execute_result"
    }
   ],
   "source": [
    "df.index"
   ],
   "metadata": {
    "collapsed": false,
    "ExecuteTime": {
     "end_time": "2023-08-23T08:22:07.005013500Z",
     "start_time": "2023-08-23T08:22:07.004508800Z"
    }
   },
   "id": "c2444c6370a8d428"
  },
  {
   "cell_type": "code",
   "execution_count": 15,
   "outputs": [
    {
     "name": "stdout",
     "output_type": "stream",
     "text": [
      " Volume in drive C is OS\n",
      " Volume Serial Number is EE51-6D75\n",
      "\n",
      " Directory of C:\\Users\\DELL\\Desktop\\python-for-data-science\\02_pandas\n",
      "\n",
      "23-08-2023  13:56    <DIR>          .\n",
      "16-08-2023  22:08    <DIR>          ..\n",
      "23-08-2023  13:56             4,627 dataframes.ipynb\n",
      "23-08-2023  12:28             4,406 one.ipynb\n",
      "13-07-2023  21:43           121,005 results_w1.csv\n",
      "24-07-2023  16:22           146,933 results_w2.csv\n",
      "04-08-2023  20:25           151,808 results_w3.csv\n",
      "16-08-2023  21:32           152,386 results_w4.csv\n",
      "20-08-2023  19:47             5,157 two.ipynb\n",
      "               7 File(s)        586,322 bytes\n",
      "               2 Dir(s)  212,784,271,360 bytes free\n"
     ]
    }
   ],
   "source": [
    "ls"
   ],
   "metadata": {
    "collapsed": false,
    "ExecuteTime": {
     "end_time": "2023-08-23T08:26:02.783005800Z",
     "start_time": "2023-08-23T08:26:02.751710900Z"
    }
   },
   "id": "21f8871d6f2d07a3"
  },
  {
   "cell_type": "code",
   "execution_count": 26,
   "outputs": [],
   "source": [
    "df = pd.read_csv(\"customers-100.csv\")"
   ],
   "metadata": {
    "collapsed": false,
    "ExecuteTime": {
     "end_time": "2023-08-23T08:43:44.627837200Z",
     "start_time": "2023-08-23T08:43:44.596184300Z"
    }
   },
   "id": "fcf8e6068277cc51"
  },
  {
   "cell_type": "code",
   "execution_count": 27,
   "outputs": [
    {
     "name": "stdout",
     "output_type": "stream",
     "text": [
      "<class 'pandas.core.frame.DataFrame'>\n",
      "RangeIndex: 100 entries, 0 to 99\n",
      "Data columns (total 12 columns):\n",
      " #   Column             Non-Null Count  Dtype \n",
      "---  ------             --------------  ----- \n",
      " 0   Index              100 non-null    int64 \n",
      " 1   Customer Id        100 non-null    object\n",
      " 2   First Name         100 non-null    object\n",
      " 3   Last Name          100 non-null    object\n",
      " 4   Company            100 non-null    object\n",
      " 5   City               100 non-null    object\n",
      " 6   Country            100 non-null    object\n",
      " 7   Phone 1            100 non-null    object\n",
      " 8   Phone 2            100 non-null    object\n",
      " 9   Email              100 non-null    object\n",
      " 10  Subscription Date  100 non-null    object\n",
      " 11  Website            100 non-null    object\n",
      "dtypes: int64(1), object(11)\n",
      "memory usage: 9.5+ KB\n"
     ]
    }
   ],
   "source": [
    "df.info()"
   ],
   "metadata": {
    "collapsed": false,
    "ExecuteTime": {
     "end_time": "2023-08-23T08:43:45.921150400Z",
     "start_time": "2023-08-23T08:43:45.889798600Z"
    }
   },
   "id": "a7d56653d755d6cb"
  },
  {
   "cell_type": "code",
   "execution_count": 28,
   "outputs": [
    {
     "data": {
      "text/plain": "    Index      Customer Id First Name Last Name  \\\n0       1  DD37Cf93aecA6Dc     Sheryl    Baxter   \n1       2  1Ef7b82A4CAAD10    Preston    Lozano   \n2       3  6F94879bDAfE5a6        Roy     Berry   \n3       4  5Cef8BFA16c5e3c      Linda     Olsen   \n4       5  053d585Ab6b3159     Joanna    Bender   \n..    ...              ...        ...       ...   \n95     96  cb8E23e48d22Eae       Karl     Greer   \n96     97  CeD220bdAaCfaDf       Lynn  Atkinson   \n97     98  28CDbC0dFe4b1Db       Fred    Guerra   \n98     99  c23d1D9EE8DEB0A     Yvonne    Farmer   \n99    100  2354a0E336A91A1   Clarence    Haynes   \n\n                            Company               City  \\\n0                   Rasmussen Group       East Leonard   \n1                       Vega-Gentry  East Jimmychester   \n2                     Murillo-Perry      Isabelborough   \n3   Dominguez, Mcmillan and Donovan         Bensonview   \n4          Martin, Lang and Andrade     West Priscilla   \n..                              ...                ...   \n95                        Carey LLC       East Richard   \n96            Ware, Burns and Oneal       New Bradview   \n97                    Schmitt-Jones         Ortegaland   \n98               Fitzgerald-Harrell    Lake Elijahview   \n99               Le, Nash and Cross          Judymouth   \n\n                       Country                 Phone 1  \\\n0                        Chile            229.077.5154   \n1                     Djibouti              5153435776   \n2          Antigua and Barbuda         +1-539-402-0259   \n3           Dominican Republic  001-808-617-6467x12895   \n4   Slovakia (Slovak Republic)  001-234-203-0635x76146   \n..                         ...                     ...   \n95                      Guyana     (188)169-1674x58692   \n96                   Sri Lanka         +1-846-706-2218   \n97             Solomon Islands    +1-753-067-8419x7170   \n98                       Aruba           (530)311-9786   \n99                    Honduras           (753)813-6941   \n\n                   Phone 2                           Email Subscription Date  \\\n0         397.884.0519x718        zunigavanessa@smith.info        2020-08-24   \n1         686-620-1820x944                 vmata@colon.com        2021-04-23   \n2      (496)978-3969x58947             beckycarr@hogan.com        2020-03-25   \n3          +1-813-324-8756     stanleyblackwell@benson.org        2020-06-02   \n4    001-199-446-3860x3486         colinalvarado@miles.net        2021-04-17   \n..                     ...                             ...               ...   \n95    001-841-293-3519x614                hhart@jensen.com        2022-01-30   \n96            605.413.3198               vkemp@ferrell.com        2021-07-10   \n97   +1-632-666-7507x92121                swagner@kane.org        2021-09-18   \n98  001-869-452-0943x12424  mccarthystephen@horn-green.biz        2021-08-11   \n99            783.639.1472          colleen91@faulkner.biz        2020-03-11   \n\n                              Website  \n0          http://www.stephenson.com/  \n1               http://www.hobbs.com/  \n2            http://www.lawrence.com/  \n3          http://www.good-lyons.com/  \n4         https://goodwin-ingram.com/  \n..                                ...  \n95            http://hayes-perez.com/  \n96         https://novak-allison.com/  \n97              https://www.ross.com/  \n98               http://watkins.info/  \n99  http://www.hatfield-saunders.net/  \n\n[100 rows x 12 columns]",
      "text/html": "<div>\n<style scoped>\n    .dataframe tbody tr th:only-of-type {\n        vertical-align: middle;\n    }\n\n    .dataframe tbody tr th {\n        vertical-align: top;\n    }\n\n    .dataframe thead th {\n        text-align: right;\n    }\n</style>\n<table border=\"1\" class=\"dataframe\">\n  <thead>\n    <tr style=\"text-align: right;\">\n      <th></th>\n      <th>Index</th>\n      <th>Customer Id</th>\n      <th>First Name</th>\n      <th>Last Name</th>\n      <th>Company</th>\n      <th>City</th>\n      <th>Country</th>\n      <th>Phone 1</th>\n      <th>Phone 2</th>\n      <th>Email</th>\n      <th>Subscription Date</th>\n      <th>Website</th>\n    </tr>\n  </thead>\n  <tbody>\n    <tr>\n      <th>0</th>\n      <td>1</td>\n      <td>DD37Cf93aecA6Dc</td>\n      <td>Sheryl</td>\n      <td>Baxter</td>\n      <td>Rasmussen Group</td>\n      <td>East Leonard</td>\n      <td>Chile</td>\n      <td>229.077.5154</td>\n      <td>397.884.0519x718</td>\n      <td>zunigavanessa@smith.info</td>\n      <td>2020-08-24</td>\n      <td>http://www.stephenson.com/</td>\n    </tr>\n    <tr>\n      <th>1</th>\n      <td>2</td>\n      <td>1Ef7b82A4CAAD10</td>\n      <td>Preston</td>\n      <td>Lozano</td>\n      <td>Vega-Gentry</td>\n      <td>East Jimmychester</td>\n      <td>Djibouti</td>\n      <td>5153435776</td>\n      <td>686-620-1820x944</td>\n      <td>vmata@colon.com</td>\n      <td>2021-04-23</td>\n      <td>http://www.hobbs.com/</td>\n    </tr>\n    <tr>\n      <th>2</th>\n      <td>3</td>\n      <td>6F94879bDAfE5a6</td>\n      <td>Roy</td>\n      <td>Berry</td>\n      <td>Murillo-Perry</td>\n      <td>Isabelborough</td>\n      <td>Antigua and Barbuda</td>\n      <td>+1-539-402-0259</td>\n      <td>(496)978-3969x58947</td>\n      <td>beckycarr@hogan.com</td>\n      <td>2020-03-25</td>\n      <td>http://www.lawrence.com/</td>\n    </tr>\n    <tr>\n      <th>3</th>\n      <td>4</td>\n      <td>5Cef8BFA16c5e3c</td>\n      <td>Linda</td>\n      <td>Olsen</td>\n      <td>Dominguez, Mcmillan and Donovan</td>\n      <td>Bensonview</td>\n      <td>Dominican Republic</td>\n      <td>001-808-617-6467x12895</td>\n      <td>+1-813-324-8756</td>\n      <td>stanleyblackwell@benson.org</td>\n      <td>2020-06-02</td>\n      <td>http://www.good-lyons.com/</td>\n    </tr>\n    <tr>\n      <th>4</th>\n      <td>5</td>\n      <td>053d585Ab6b3159</td>\n      <td>Joanna</td>\n      <td>Bender</td>\n      <td>Martin, Lang and Andrade</td>\n      <td>West Priscilla</td>\n      <td>Slovakia (Slovak Republic)</td>\n      <td>001-234-203-0635x76146</td>\n      <td>001-199-446-3860x3486</td>\n      <td>colinalvarado@miles.net</td>\n      <td>2021-04-17</td>\n      <td>https://goodwin-ingram.com/</td>\n    </tr>\n    <tr>\n      <th>...</th>\n      <td>...</td>\n      <td>...</td>\n      <td>...</td>\n      <td>...</td>\n      <td>...</td>\n      <td>...</td>\n      <td>...</td>\n      <td>...</td>\n      <td>...</td>\n      <td>...</td>\n      <td>...</td>\n      <td>...</td>\n    </tr>\n    <tr>\n      <th>95</th>\n      <td>96</td>\n      <td>cb8E23e48d22Eae</td>\n      <td>Karl</td>\n      <td>Greer</td>\n      <td>Carey LLC</td>\n      <td>East Richard</td>\n      <td>Guyana</td>\n      <td>(188)169-1674x58692</td>\n      <td>001-841-293-3519x614</td>\n      <td>hhart@jensen.com</td>\n      <td>2022-01-30</td>\n      <td>http://hayes-perez.com/</td>\n    </tr>\n    <tr>\n      <th>96</th>\n      <td>97</td>\n      <td>CeD220bdAaCfaDf</td>\n      <td>Lynn</td>\n      <td>Atkinson</td>\n      <td>Ware, Burns and Oneal</td>\n      <td>New Bradview</td>\n      <td>Sri Lanka</td>\n      <td>+1-846-706-2218</td>\n      <td>605.413.3198</td>\n      <td>vkemp@ferrell.com</td>\n      <td>2021-07-10</td>\n      <td>https://novak-allison.com/</td>\n    </tr>\n    <tr>\n      <th>97</th>\n      <td>98</td>\n      <td>28CDbC0dFe4b1Db</td>\n      <td>Fred</td>\n      <td>Guerra</td>\n      <td>Schmitt-Jones</td>\n      <td>Ortegaland</td>\n      <td>Solomon Islands</td>\n      <td>+1-753-067-8419x7170</td>\n      <td>+1-632-666-7507x92121</td>\n      <td>swagner@kane.org</td>\n      <td>2021-09-18</td>\n      <td>https://www.ross.com/</td>\n    </tr>\n    <tr>\n      <th>98</th>\n      <td>99</td>\n      <td>c23d1D9EE8DEB0A</td>\n      <td>Yvonne</td>\n      <td>Farmer</td>\n      <td>Fitzgerald-Harrell</td>\n      <td>Lake Elijahview</td>\n      <td>Aruba</td>\n      <td>(530)311-9786</td>\n      <td>001-869-452-0943x12424</td>\n      <td>mccarthystephen@horn-green.biz</td>\n      <td>2021-08-11</td>\n      <td>http://watkins.info/</td>\n    </tr>\n    <tr>\n      <th>99</th>\n      <td>100</td>\n      <td>2354a0E336A91A1</td>\n      <td>Clarence</td>\n      <td>Haynes</td>\n      <td>Le, Nash and Cross</td>\n      <td>Judymouth</td>\n      <td>Honduras</td>\n      <td>(753)813-6941</td>\n      <td>783.639.1472</td>\n      <td>colleen91@faulkner.biz</td>\n      <td>2020-03-11</td>\n      <td>http://www.hatfield-saunders.net/</td>\n    </tr>\n  </tbody>\n</table>\n<p>100 rows × 12 columns</p>\n</div>"
     },
     "execution_count": 28,
     "metadata": {},
     "output_type": "execute_result"
    }
   ],
   "source": [
    "df"
   ],
   "metadata": {
    "collapsed": false,
    "ExecuteTime": {
     "end_time": "2023-08-23T08:43:46.746721900Z",
     "start_time": "2023-08-23T08:43:46.699595800Z"
    }
   },
   "id": "5570ba72136af90d"
  },
  {
   "cell_type": "code",
   "execution_count": 29,
   "outputs": [
    {
     "data": {
      "text/plain": "Index(['Index', 'Customer Id', 'First Name', 'Last Name', 'Company', 'City',\n       'Country', 'Phone 1', 'Phone 2', 'Email', 'Subscription Date',\n       'Website'],\n      dtype='object')"
     },
     "execution_count": 29,
     "metadata": {},
     "output_type": "execute_result"
    }
   ],
   "source": [
    "df.columns"
   ],
   "metadata": {
    "collapsed": false,
    "ExecuteTime": {
     "end_time": "2023-08-23T08:43:48.318389300Z",
     "start_time": "2023-08-23T08:43:48.302637Z"
    }
   },
   "id": "56942aa004ab7f81"
  },
  {
   "cell_type": "code",
   "execution_count": 24,
   "outputs": [
    {
     "data": {
      "text/plain": "0       1\n1       2\n2       3\n3       4\n4       5\n     ... \n95     96\n96     97\n97     98\n98     99\n99    100\nName: Index, Length: 100, dtype: int64"
     },
     "execution_count": 24,
     "metadata": {},
     "output_type": "execute_result"
    }
   ],
   "source": [
    "df.Index"
   ],
   "metadata": {
    "collapsed": false,
    "ExecuteTime": {
     "end_time": "2023-08-23T08:43:12.693497400Z",
     "start_time": "2023-08-23T08:43:12.677712600Z"
    }
   },
   "id": "20a0c4fa5368446f"
  },
  {
   "cell_type": "code",
   "execution_count": 30,
   "outputs": [
    {
     "data": {
      "text/plain": "   Index      Customer Id First Name Last Name  \\\n0      1  DD37Cf93aecA6Dc     Sheryl    Baxter   \n1      2  1Ef7b82A4CAAD10    Preston    Lozano   \n2      3  6F94879bDAfE5a6        Roy     Berry   \n3      4  5Cef8BFA16c5e3c      Linda     Olsen   \n4      5  053d585Ab6b3159     Joanna    Bender   \n\n                           Company               City  \\\n0                  Rasmussen Group       East Leonard   \n1                      Vega-Gentry  East Jimmychester   \n2                    Murillo-Perry      Isabelborough   \n3  Dominguez, Mcmillan and Donovan         Bensonview   \n4         Martin, Lang and Andrade     West Priscilla   \n\n                      Country                 Phone 1                Phone 2  \\\n0                       Chile            229.077.5154       397.884.0519x718   \n1                    Djibouti              5153435776       686-620-1820x944   \n2         Antigua and Barbuda         +1-539-402-0259    (496)978-3969x58947   \n3          Dominican Republic  001-808-617-6467x12895        +1-813-324-8756   \n4  Slovakia (Slovak Republic)  001-234-203-0635x76146  001-199-446-3860x3486   \n\n                         Email Subscription Date                      Website  \n0     zunigavanessa@smith.info        2020-08-24   http://www.stephenson.com/  \n1              vmata@colon.com        2021-04-23        http://www.hobbs.com/  \n2          beckycarr@hogan.com        2020-03-25     http://www.lawrence.com/  \n3  stanleyblackwell@benson.org        2020-06-02   http://www.good-lyons.com/  \n4      colinalvarado@miles.net        2021-04-17  https://goodwin-ingram.com/  ",
      "text/html": "<div>\n<style scoped>\n    .dataframe tbody tr th:only-of-type {\n        vertical-align: middle;\n    }\n\n    .dataframe tbody tr th {\n        vertical-align: top;\n    }\n\n    .dataframe thead th {\n        text-align: right;\n    }\n</style>\n<table border=\"1\" class=\"dataframe\">\n  <thead>\n    <tr style=\"text-align: right;\">\n      <th></th>\n      <th>Index</th>\n      <th>Customer Id</th>\n      <th>First Name</th>\n      <th>Last Name</th>\n      <th>Company</th>\n      <th>City</th>\n      <th>Country</th>\n      <th>Phone 1</th>\n      <th>Phone 2</th>\n      <th>Email</th>\n      <th>Subscription Date</th>\n      <th>Website</th>\n    </tr>\n  </thead>\n  <tbody>\n    <tr>\n      <th>0</th>\n      <td>1</td>\n      <td>DD37Cf93aecA6Dc</td>\n      <td>Sheryl</td>\n      <td>Baxter</td>\n      <td>Rasmussen Group</td>\n      <td>East Leonard</td>\n      <td>Chile</td>\n      <td>229.077.5154</td>\n      <td>397.884.0519x718</td>\n      <td>zunigavanessa@smith.info</td>\n      <td>2020-08-24</td>\n      <td>http://www.stephenson.com/</td>\n    </tr>\n    <tr>\n      <th>1</th>\n      <td>2</td>\n      <td>1Ef7b82A4CAAD10</td>\n      <td>Preston</td>\n      <td>Lozano</td>\n      <td>Vega-Gentry</td>\n      <td>East Jimmychester</td>\n      <td>Djibouti</td>\n      <td>5153435776</td>\n      <td>686-620-1820x944</td>\n      <td>vmata@colon.com</td>\n      <td>2021-04-23</td>\n      <td>http://www.hobbs.com/</td>\n    </tr>\n    <tr>\n      <th>2</th>\n      <td>3</td>\n      <td>6F94879bDAfE5a6</td>\n      <td>Roy</td>\n      <td>Berry</td>\n      <td>Murillo-Perry</td>\n      <td>Isabelborough</td>\n      <td>Antigua and Barbuda</td>\n      <td>+1-539-402-0259</td>\n      <td>(496)978-3969x58947</td>\n      <td>beckycarr@hogan.com</td>\n      <td>2020-03-25</td>\n      <td>http://www.lawrence.com/</td>\n    </tr>\n    <tr>\n      <th>3</th>\n      <td>4</td>\n      <td>5Cef8BFA16c5e3c</td>\n      <td>Linda</td>\n      <td>Olsen</td>\n      <td>Dominguez, Mcmillan and Donovan</td>\n      <td>Bensonview</td>\n      <td>Dominican Republic</td>\n      <td>001-808-617-6467x12895</td>\n      <td>+1-813-324-8756</td>\n      <td>stanleyblackwell@benson.org</td>\n      <td>2020-06-02</td>\n      <td>http://www.good-lyons.com/</td>\n    </tr>\n    <tr>\n      <th>4</th>\n      <td>5</td>\n      <td>053d585Ab6b3159</td>\n      <td>Joanna</td>\n      <td>Bender</td>\n      <td>Martin, Lang and Andrade</td>\n      <td>West Priscilla</td>\n      <td>Slovakia (Slovak Republic)</td>\n      <td>001-234-203-0635x76146</td>\n      <td>001-199-446-3860x3486</td>\n      <td>colinalvarado@miles.net</td>\n      <td>2021-04-17</td>\n      <td>https://goodwin-ingram.com/</td>\n    </tr>\n  </tbody>\n</table>\n</div>"
     },
     "execution_count": 30,
     "metadata": {},
     "output_type": "execute_result"
    }
   ],
   "source": [
    "df.head()"
   ],
   "metadata": {
    "collapsed": false,
    "ExecuteTime": {
     "end_time": "2023-08-23T08:43:54.465459600Z",
     "start_time": "2023-08-23T08:43:54.418061300Z"
    }
   },
   "id": "73180bedbe2bcdb6"
  },
  {
   "cell_type": "code",
   "execution_count": 31,
   "outputs": [
    {
     "data": {
      "text/plain": "    Index      Customer Id First Name Last Name                Company  \\\n95     96  cb8E23e48d22Eae       Karl     Greer              Carey LLC   \n96     97  CeD220bdAaCfaDf       Lynn  Atkinson  Ware, Burns and Oneal   \n97     98  28CDbC0dFe4b1Db       Fred    Guerra          Schmitt-Jones   \n98     99  c23d1D9EE8DEB0A     Yvonne    Farmer     Fitzgerald-Harrell   \n99    100  2354a0E336A91A1   Clarence    Haynes     Le, Nash and Cross   \n\n               City          Country               Phone 1  \\\n95     East Richard           Guyana   (188)169-1674x58692   \n96     New Bradview        Sri Lanka       +1-846-706-2218   \n97       Ortegaland  Solomon Islands  +1-753-067-8419x7170   \n98  Lake Elijahview            Aruba         (530)311-9786   \n99        Judymouth         Honduras         (753)813-6941   \n\n                   Phone 2                           Email Subscription Date  \\\n95    001-841-293-3519x614                hhart@jensen.com        2022-01-30   \n96            605.413.3198               vkemp@ferrell.com        2021-07-10   \n97   +1-632-666-7507x92121                swagner@kane.org        2021-09-18   \n98  001-869-452-0943x12424  mccarthystephen@horn-green.biz        2021-08-11   \n99            783.639.1472          colleen91@faulkner.biz        2020-03-11   \n\n                              Website  \n95            http://hayes-perez.com/  \n96         https://novak-allison.com/  \n97              https://www.ross.com/  \n98               http://watkins.info/  \n99  http://www.hatfield-saunders.net/  ",
      "text/html": "<div>\n<style scoped>\n    .dataframe tbody tr th:only-of-type {\n        vertical-align: middle;\n    }\n\n    .dataframe tbody tr th {\n        vertical-align: top;\n    }\n\n    .dataframe thead th {\n        text-align: right;\n    }\n</style>\n<table border=\"1\" class=\"dataframe\">\n  <thead>\n    <tr style=\"text-align: right;\">\n      <th></th>\n      <th>Index</th>\n      <th>Customer Id</th>\n      <th>First Name</th>\n      <th>Last Name</th>\n      <th>Company</th>\n      <th>City</th>\n      <th>Country</th>\n      <th>Phone 1</th>\n      <th>Phone 2</th>\n      <th>Email</th>\n      <th>Subscription Date</th>\n      <th>Website</th>\n    </tr>\n  </thead>\n  <tbody>\n    <tr>\n      <th>95</th>\n      <td>96</td>\n      <td>cb8E23e48d22Eae</td>\n      <td>Karl</td>\n      <td>Greer</td>\n      <td>Carey LLC</td>\n      <td>East Richard</td>\n      <td>Guyana</td>\n      <td>(188)169-1674x58692</td>\n      <td>001-841-293-3519x614</td>\n      <td>hhart@jensen.com</td>\n      <td>2022-01-30</td>\n      <td>http://hayes-perez.com/</td>\n    </tr>\n    <tr>\n      <th>96</th>\n      <td>97</td>\n      <td>CeD220bdAaCfaDf</td>\n      <td>Lynn</td>\n      <td>Atkinson</td>\n      <td>Ware, Burns and Oneal</td>\n      <td>New Bradview</td>\n      <td>Sri Lanka</td>\n      <td>+1-846-706-2218</td>\n      <td>605.413.3198</td>\n      <td>vkemp@ferrell.com</td>\n      <td>2021-07-10</td>\n      <td>https://novak-allison.com/</td>\n    </tr>\n    <tr>\n      <th>97</th>\n      <td>98</td>\n      <td>28CDbC0dFe4b1Db</td>\n      <td>Fred</td>\n      <td>Guerra</td>\n      <td>Schmitt-Jones</td>\n      <td>Ortegaland</td>\n      <td>Solomon Islands</td>\n      <td>+1-753-067-8419x7170</td>\n      <td>+1-632-666-7507x92121</td>\n      <td>swagner@kane.org</td>\n      <td>2021-09-18</td>\n      <td>https://www.ross.com/</td>\n    </tr>\n    <tr>\n      <th>98</th>\n      <td>99</td>\n      <td>c23d1D9EE8DEB0A</td>\n      <td>Yvonne</td>\n      <td>Farmer</td>\n      <td>Fitzgerald-Harrell</td>\n      <td>Lake Elijahview</td>\n      <td>Aruba</td>\n      <td>(530)311-9786</td>\n      <td>001-869-452-0943x12424</td>\n      <td>mccarthystephen@horn-green.biz</td>\n      <td>2021-08-11</td>\n      <td>http://watkins.info/</td>\n    </tr>\n    <tr>\n      <th>99</th>\n      <td>100</td>\n      <td>2354a0E336A91A1</td>\n      <td>Clarence</td>\n      <td>Haynes</td>\n      <td>Le, Nash and Cross</td>\n      <td>Judymouth</td>\n      <td>Honduras</td>\n      <td>(753)813-6941</td>\n      <td>783.639.1472</td>\n      <td>colleen91@faulkner.biz</td>\n      <td>2020-03-11</td>\n      <td>http://www.hatfield-saunders.net/</td>\n    </tr>\n  </tbody>\n</table>\n</div>"
     },
     "execution_count": 31,
     "metadata": {},
     "output_type": "execute_result"
    }
   ],
   "source": [
    "df.tail()"
   ],
   "metadata": {
    "collapsed": false,
    "ExecuteTime": {
     "end_time": "2023-08-23T08:44:17.340014400Z",
     "start_time": "2023-08-23T08:44:17.298240800Z"
    }
   },
   "id": "f8b586b5e2939c45"
  },
  {
   "cell_type": "code",
   "execution_count": 32,
   "outputs": [
    {
     "data": {
      "text/plain": "100"
     },
     "execution_count": 32,
     "metadata": {},
     "output_type": "execute_result"
    }
   ],
   "source": [
    "len(df)"
   ],
   "metadata": {
    "collapsed": false,
    "ExecuteTime": {
     "end_time": "2023-08-23T08:44:31.302748600Z",
     "start_time": "2023-08-23T08:44:31.286591Z"
    }
   },
   "id": "b49e1ef000859958"
  },
  {
   "cell_type": "code",
   "execution_count": 34,
   "outputs": [
    {
     "data": {
      "text/plain": "       count  mean        std  min    25%   50%    75%    max\nIndex  100.0  50.5  29.011492  1.0  25.75  50.5  75.25  100.0",
      "text/html": "<div>\n<style scoped>\n    .dataframe tbody tr th:only-of-type {\n        vertical-align: middle;\n    }\n\n    .dataframe tbody tr th {\n        vertical-align: top;\n    }\n\n    .dataframe thead th {\n        text-align: right;\n    }\n</style>\n<table border=\"1\" class=\"dataframe\">\n  <thead>\n    <tr style=\"text-align: right;\">\n      <th></th>\n      <th>count</th>\n      <th>mean</th>\n      <th>std</th>\n      <th>min</th>\n      <th>25%</th>\n      <th>50%</th>\n      <th>75%</th>\n      <th>max</th>\n    </tr>\n  </thead>\n  <tbody>\n    <tr>\n      <th>Index</th>\n      <td>100.0</td>\n      <td>50.5</td>\n      <td>29.011492</td>\n      <td>1.0</td>\n      <td>25.75</td>\n      <td>50.5</td>\n      <td>75.25</td>\n      <td>100.0</td>\n    </tr>\n  </tbody>\n</table>\n</div>"
     },
     "execution_count": 34,
     "metadata": {},
     "output_type": "execute_result"
    }
   ],
   "source": [
    "df.describe().transpose()"
   ],
   "metadata": {
    "collapsed": false,
    "ExecuteTime": {
     "end_time": "2023-08-23T08:45:36.921136600Z",
     "start_time": "2023-08-23T08:45:36.917096400Z"
    }
   },
   "id": "5726ed25491e2fcc"
  },
  {
   "cell_type": "code",
   "execution_count": 36,
   "outputs": [
    {
     "data": {
      "text/plain": "                 City                     Country\n0        East Leonard                       Chile\n1   East Jimmychester                    Djibouti\n2       Isabelborough         Antigua and Barbuda\n3          Bensonview          Dominican Republic\n4      West Priscilla  Slovakia (Slovak Republic)\n..                ...                         ...\n95       East Richard                      Guyana\n96       New Bradview                   Sri Lanka\n97         Ortegaland             Solomon Islands\n98    Lake Elijahview                       Aruba\n99          Judymouth                    Honduras\n\n[100 rows x 2 columns]",
      "text/html": "<div>\n<style scoped>\n    .dataframe tbody tr th:only-of-type {\n        vertical-align: middle;\n    }\n\n    .dataframe tbody tr th {\n        vertical-align: top;\n    }\n\n    .dataframe thead th {\n        text-align: right;\n    }\n</style>\n<table border=\"1\" class=\"dataframe\">\n  <thead>\n    <tr style=\"text-align: right;\">\n      <th></th>\n      <th>City</th>\n      <th>Country</th>\n    </tr>\n  </thead>\n  <tbody>\n    <tr>\n      <th>0</th>\n      <td>East Leonard</td>\n      <td>Chile</td>\n    </tr>\n    <tr>\n      <th>1</th>\n      <td>East Jimmychester</td>\n      <td>Djibouti</td>\n    </tr>\n    <tr>\n      <th>2</th>\n      <td>Isabelborough</td>\n      <td>Antigua and Barbuda</td>\n    </tr>\n    <tr>\n      <th>3</th>\n      <td>Bensonview</td>\n      <td>Dominican Republic</td>\n    </tr>\n    <tr>\n      <th>4</th>\n      <td>West Priscilla</td>\n      <td>Slovakia (Slovak Republic)</td>\n    </tr>\n    <tr>\n      <th>...</th>\n      <td>...</td>\n      <td>...</td>\n    </tr>\n    <tr>\n      <th>95</th>\n      <td>East Richard</td>\n      <td>Guyana</td>\n    </tr>\n    <tr>\n      <th>96</th>\n      <td>New Bradview</td>\n      <td>Sri Lanka</td>\n    </tr>\n    <tr>\n      <th>97</th>\n      <td>Ortegaland</td>\n      <td>Solomon Islands</td>\n    </tr>\n    <tr>\n      <th>98</th>\n      <td>Lake Elijahview</td>\n      <td>Aruba</td>\n    </tr>\n    <tr>\n      <th>99</th>\n      <td>Judymouth</td>\n      <td>Honduras</td>\n    </tr>\n  </tbody>\n</table>\n<p>100 rows × 2 columns</p>\n</div>"
     },
     "execution_count": 36,
     "metadata": {},
     "output_type": "execute_result"
    }
   ],
   "source": [
    "df[['City','Country']]"
   ],
   "metadata": {
    "collapsed": false,
    "ExecuteTime": {
     "end_time": "2023-08-23T08:47:18.177497600Z",
     "start_time": "2023-08-23T08:47:18.161717900Z"
    }
   },
   "id": "97f2ca264b524538"
  },
  {
   "cell_type": "code",
   "execution_count": 37,
   "outputs": [
    {
     "data": {
      "text/plain": "Index                                  10\nCustomer Id               8C2811a503C7c5a\nFirst Name                       Michelle\nLast Name                       Gallagher\nCompany                      Beck-Hendrix\nCity                           Elaineberg\nCountry                       Timor-Leste\nPhone 1                  739.218.2516x459\nPhone 2              001-054-401-0347x617\nEmail                   mdyer@escobar.net\nSubscription Date              2021-11-08\nWebsite                https://arias.com/\nName: 9, dtype: object"
     },
     "execution_count": 37,
     "metadata": {},
     "output_type": "execute_result"
    }
   ],
   "source": [
    "df.loc[9]"
   ],
   "metadata": {
    "collapsed": false,
    "ExecuteTime": {
     "end_time": "2023-08-23T08:48:22.709940400Z",
     "start_time": "2023-08-23T08:48:22.694340100Z"
    }
   },
   "id": "ebeaff8643f1b924"
  },
  {
   "cell_type": "code",
   "execution_count": 40,
   "outputs": [],
   "source": [
    "i = df.loc[9, 'Phone 1']"
   ],
   "metadata": {
    "collapsed": false,
    "ExecuteTime": {
     "end_time": "2023-08-23T08:54:16.025861500Z",
     "start_time": "2023-08-23T08:54:16.018345800Z"
    }
   },
   "id": "bfdfb50528e99ec"
  },
  {
   "cell_type": "code",
   "execution_count": 41,
   "outputs": [
    {
     "data": {
      "text/plain": "'739.218.2516x459'"
     },
     "execution_count": 41,
     "metadata": {},
     "output_type": "execute_result"
    }
   ],
   "source": [
    "i"
   ],
   "metadata": {
    "collapsed": false,
    "ExecuteTime": {
     "end_time": "2023-08-23T08:54:16.406562100Z",
     "start_time": "2023-08-23T08:54:16.390868700Z"
    }
   },
   "id": "e86116dd6768578a"
  },
  {
   "cell_type": "code",
   "execution_count": 56,
   "outputs": [],
   "source": [
    "ans = re.split(r\"[^\\d]\",i)"
   ],
   "metadata": {
    "collapsed": false,
    "ExecuteTime": {
     "end_time": "2023-08-23T09:01:31.937276400Z",
     "start_time": "2023-08-23T09:01:31.905351300Z"
    }
   },
   "id": "c196b701407c2ab7"
  },
  {
   "cell_type": "code",
   "execution_count": 66,
   "outputs": [],
   "source": [
    "temp = ''.join(ans)"
   ],
   "metadata": {
    "collapsed": false,
    "ExecuteTime": {
     "end_time": "2023-08-23T09:05:31.800501900Z",
     "start_time": "2023-08-23T09:05:31.799996300Z"
    }
   },
   "id": "2defe1c6efd8b4f9"
  },
  {
   "cell_type": "code",
   "execution_count": 67,
   "outputs": [
    {
     "data": {
      "text/plain": "'7392182516459'"
     },
     "execution_count": 67,
     "metadata": {},
     "output_type": "execute_result"
    }
   ],
   "source": [
    "temp"
   ],
   "metadata": {
    "collapsed": false,
    "ExecuteTime": {
     "end_time": "2023-08-23T09:05:32.079588900Z",
     "start_time": "2023-08-23T09:05:32.063881100Z"
    }
   },
   "id": "8acf215bafe82452"
  },
  {
   "cell_type": "code",
   "execution_count": null,
   "outputs": [],
   "source": [],
   "metadata": {
    "collapsed": false
   },
   "id": "8fc3ef8ffd3384da"
  }
 ],
 "metadata": {
  "kernelspec": {
   "display_name": "Python 3",
   "language": "python",
   "name": "python3"
  },
  "language_info": {
   "codemirror_mode": {
    "name": "ipython",
    "version": 2
   },
   "file_extension": ".py",
   "mimetype": "text/x-python",
   "name": "python",
   "nbconvert_exporter": "python",
   "pygments_lexer": "ipython2",
   "version": "2.7.6"
  }
 },
 "nbformat": 4,
 "nbformat_minor": 5
}
